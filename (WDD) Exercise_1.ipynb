{
  "nbformat": 4,
  "nbformat_minor": 0,
  "metadata": {
    "colab": {
      "name": "(WDD) Exercise 1.ipynb",
      "provenance": [],
      "collapsed_sections": [],
      "authorship_tag": "ABX9TyMZG3YIKGqZYHWtdVxqPFdQ",
      "include_colab_link": true
    },
    "kernelspec": {
      "name": "python3",
      "display_name": "Python 3"
    },
    "language_info": {
      "name": "python"
    }
  },
  "cells": [
    {
      "cell_type": "markdown",
      "metadata": {
        "id": "view-in-github",
        "colab_type": "text"
      },
      "source": [
        "<a href=\"https://colab.research.google.com/github/vincev16/Web-Design-and-Development-58043/blob/main/(WDD)%20Exercise_1.ipynb\" target=\"_parent\"><img src=\"https://colab.research.google.com/assets/colab-badge.svg\" alt=\"Open In Colab\"/></a>"
      ]
    },
    {
      "cell_type": "markdown",
      "source": [
        "##Vince Kazer M. Villasor\n",
        "###58043"
      ],
      "metadata": {
        "id": "4QMlpElTmF2P"
      }
    },
    {
      "cell_type": "markdown",
      "source": [
        "Radius only"
      ],
      "metadata": {
        "id": "a8S0fI4NrCD6"
      }
    },
    {
      "cell_type": "code",
      "execution_count": 25,
      "metadata": {
        "colab": {
          "base_uri": "https://localhost:8080/"
        },
        "id": "dyc1LDBElSJb",
        "outputId": "80701870-f51c-4037-cb7c-4e16ded6a9d4"
      },
      "outputs": [
        {
          "output_type": "stream",
          "name": "stdout",
          "text": [
            "Enter the radius given: 10\n",
            "Area of the circle:  314.0\n"
          ]
        }
      ],
      "source": [
        "pi = 3.14\n",
        "r = float(input(\"Enter the radius given: \"))\n",
        "A = pi * r**2\n",
        "print(\"Area of the circle: \", A)\n"
      ]
    }
  ]
}